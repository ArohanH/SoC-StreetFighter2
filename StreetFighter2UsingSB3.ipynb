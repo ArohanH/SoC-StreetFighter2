{
 "cells": [
  {
   "cell_type": "code",
   "execution_count": null,
   "id": "1443bdd9",
   "metadata": {},
   "outputs": [],
   "source": [
    "! pip install gym==0.21.0\n",
    "! pip install gym gym-retro \n",
    "! pip install pygame"
   ]
  },
  {
   "cell_type": "code",
   "execution_count": null,
   "id": "0a7bc16a",
   "metadata": {},
   "outputs": [],
   "source": [
    "! pip install torch==1.10.2+cu113 torchvision==0.11.3+cu113 torchaudio===0.10.2+cu113 -f https://download.pytorch.org/whl/cu113/torch_stable.html\n"
   ]
  },
  {
   "cell_type": "code",
   "execution_count": null,
   "id": "e19e99a5",
   "metadata": {},
   "outputs": [],
   "source": [
    "import retro # The main library\n",
    "import time # For timing learning, if needed\n",
    "import pygame # For rendering the game\n",
    "! pip install gymgrid2"
   ]
  },
  {
   "cell_type": "code",
   "execution_count": null,
   "id": "dc506d0c",
   "metadata": {},
   "outputs": [],
   "source": [
    "retro.data.list_games()\n",
    "# There are actually many games provided by Gym Retro: this command let's you check them out!"
   ]
  },
  {
   "cell_type": "code",
   "execution_count": null,
   "id": "25719521",
   "metadata": {},
   "outputs": [],
   "source": [
    "# Command to create your environment\n",
    "env = retro.make(game = \"StreetFighterIISpecialChampionEdition-Genesis\", scenario='scenario',\n",
    "            obs_type=retro.Observations.RAM)"
   ]
  },
  {
   "cell_type": "code",
   "execution_count": null,
   "id": "95335124",
   "metadata": {},
   "outputs": [],
   "source": [
    "from gym import Env \n",
    "from gym.spaces import MultiBinary, Box\n",
    "import numpy as np"
   ]
  },
  {
   "cell_type": "code",
   "execution_count": null,
   "id": "00fbbc95",
   "metadata": {},
   "outputs": [],
   "source": [
    "class StreetFighter(Env): \n",
    "     def __init__(self):\n",
    "            "
   ]
  }
 ],
 "metadata": {
  "kernelspec": {
   "display_name": "RLProj",
   "language": "python",
   "name": "rlproj"
  },
  "language_info": {
   "codemirror_mode": {
    "name": "ipython",
    "version": 3
   },
   "file_extension": ".py",
   "mimetype": "text/x-python",
   "name": "python",
   "nbconvert_exporter": "python",
   "pygments_lexer": "ipython3",
   "version": "3.6.13"
  }
 },
 "nbformat": 4,
 "nbformat_minor": 5
}
